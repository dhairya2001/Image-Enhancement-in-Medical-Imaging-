{
 "cells": [
  {
   "cell_type": "code",
   "execution_count": 1,
   "metadata": {},
   "outputs": [],
   "source": [
    "import numpy as np\n",
    "import pandas as pd\n",
    "import matplotlib.pyplot as plt\n",
    "import seaborn as sns\n",
    "import os\n",
    "import glob\n",
    "from PIL import Image, ImageFilter\n",
    "%matplotlib inline\n",
    "import pywt\n",
    "from matplotlib.image import imread\n",
    "from math import log10, sqrt\n",
    "import cv2\n",
    "import numpy as np\n",
    "from PIL import Image\n",
    "import math\n",
    "from skimage import img_as_float\n",
    "from skimage.measure import compare_mse as mse"
   ]
  },
  {
   "cell_type": "code",
   "execution_count": 2,
   "metadata": {},
   "outputs": [],
   "source": [
    "lst_img = os.listdir(\"C:/Users/cyberchef/OneDrive/Desktop/Seminar Image Enhancement/Implementation/data_2\") # returns list "
   ]
  },
  {
   "cell_type": "code",
   "execution_count": 3,
   "metadata": {
    "scrolled": false
   },
   "outputs": [
    {
     "name": "stderr",
     "output_type": "stream",
     "text": [
      "<ipython-input-3-02389fdcf0ed>:12: UserWarning: DEPRECATED: skimage.measure.compare_mse has been moved to skimage.metrics.mean_squared_error. It will be removed from skimage.measure in version 0.18.\n",
      "  return math.sqrt(mse(img_as_float(im1), img_as_float(im2)))\n"
     ]
    },
    {
     "name": "stdout",
     "output_type": "stream",
     "text": [
      "**\n",
      "median_filter PSNR Average :  61.54734826957182\n",
      "median_filter RMSE Average :  0.0007316877104993499\n",
      "median_filter SSIM Average :  0.9794757490974427\n",
      "**\n",
      "mean_filter PSNR Average :  54.62997919181345\n",
      "mean_filter RMSE Average :  0.0016045739125709543\n",
      "mean_filter SSIM Average :  0.9779588189998352\n",
      "**\n",
      "gaussian_filter PSNR Average :  56.96172867327158\n",
      "gaussian_filter RMSE Average :  0.0012193592774289751\n",
      "gaussian_filter SSIM Average :  0.9787709433131019\n",
      "**\n",
      "bilateral_filter PSNR Average :  48.71902910254634\n",
      "bilateral_filter RMSE Average :  0.0032169768874227176\n",
      "bilateral_filter SSIM Average :  0.9754710454296851\n",
      "**\n",
      "DONE\n"
     ]
    }
   ],
   "source": [
    "def PSNR(original, compressed):\n",
    "    mse = np.mean((original - compressed) ** 2)\n",
    "    if(mse == 0):  # MSE is zero means no noise is present in the signal .\n",
    "                  # Therefore PSNR have no importance.\n",
    "        return 100\n",
    "    max_pixel = 255.0\n",
    "    psnr = 20 * log10(max_pixel / sqrt(mse))\n",
    "    return psnr\n",
    "\n",
    "def rmsdiff(im1, im2):\n",
    "    \"\"\"Calculates the root mean square error (RSME) between two images\"\"\"\n",
    "    return math.sqrt(mse(img_as_float(im1), img_as_float(im2)))\n",
    "\n",
    "def ssim(img1, img2):\n",
    "    C1 = (0.01 * 255)**2\n",
    "    C2 = (0.03 * 255)**2\n",
    "\n",
    "    img1 = img1.astype(np.float64)\n",
    "    img2 = img2.astype(np.float64)\n",
    "    kernel = cv2.getGaussianKernel(11, 1.5)\n",
    "    window = np.outer(kernel, kernel.transpose())\n",
    "\n",
    "    mu1 = cv2.filter2D(img1, -1, window)[5:-5, 5:-5]  # valid\n",
    "    mu2 = cv2.filter2D(img2, -1, window)[5:-5, 5:-5]\n",
    "    mu1_sq = mu1**2\n",
    "    mu2_sq = mu2**2\n",
    "    mu1_mu2 = mu1 * mu2\n",
    "    sigma1_sq = cv2.filter2D(img1**2, -1, window)[5:-5, 5:-5] - mu1_sq\n",
    "    sigma2_sq = cv2.filter2D(img2**2, -1, window)[5:-5, 5:-5] - mu2_sq\n",
    "    sigma12 = cv2.filter2D(img1 * img2, -1, window)[5:-5, 5:-5] - mu1_mu2\n",
    "\n",
    "    ssim_map = ((2 * mu1_mu2 + C1) * (2 * sigma12 + C2)) / ((mu1_sq + mu2_sq + C1) *\n",
    "                                                            (sigma1_sq + sigma2_sq + C2))\n",
    "    return ssim_map.mean()\n",
    "\n",
    "PSNR_lst=[[]]\n",
    "RMSE_lst=[[]]\n",
    "SSIM_lst=[[]]\n",
    "\n",
    "total_images=len(lst_img)\n",
    "\n",
    "def filters(image):\n",
    "    \n",
    "# def median(image):\n",
    "    median_blur = cv2.medianBlur(image,5)\n",
    "    median_psnr_value= PSNR(image, median_blur)\n",
    "    median_rmse_value=rmsdiff(median_blur,image)\n",
    "    median_ssim_value=ssim(median_blur,image)\n",
    "\n",
    "# def meanf(image):\n",
    "    mean_blur = cv2.blur(image, (5,5))\n",
    "    mean_psnr_value= PSNR(image, mean_blur)\n",
    "    mean_rmse_value=rmsdiff(mean_blur,image)\n",
    "    mean_ssim_value=ssim(mean_blur,image)\n",
    "    \n",
    "# def gaussian(image):\n",
    "    gaussian_blur = cv2.GaussianBlur(image,(5,5),0)\n",
    "    gaussian_psnr_value= PSNR(image, gaussian_blur)\n",
    "    gaussian_rmse_value=rmsdiff(gaussian_blur,image)\n",
    "    gaussian_ssim_value=ssim(gaussian_blur,image)\n",
    "    \n",
    "# def bilateral(image):\n",
    "    bilateral_blur = cv2.bilateralFilter(image,23,51,51)\n",
    "    bilateral_psnr_value= PSNR(image, bilateral_blur)\n",
    "    bilateral_rmse_value=rmsdiff(bilateral_blur,image)\n",
    "    bilateral_ssim_value=ssim(bilateral_blur,image)\n",
    "\n",
    "    PSNR_lst.append([median_psnr_value,mean_psnr_value,gaussian_psnr_value,bilateral_psnr_value])\n",
    "    RMSE_lst.append([median_rmse_value,mean_rmse_value,gaussian_rmse_value,bilateral_rmse_value])\n",
    "    SSIM_lst.append([median_ssim_value,mean_ssim_value,gaussian_ssim_value,bilateral_ssim_value])\n",
    "    \n",
    "    \n",
    "def avg(name,x):\n",
    "    s=0\n",
    "    for i in range(1,total_images):\n",
    "        s+=name[i][x]\n",
    "    s=s/total_images\n",
    "    return s\n",
    "\n",
    "\n",
    "def main():\n",
    "    for i in range(0,total_images):\n",
    "        if i<=9:\n",
    "            path=\"C:/Users/cyberchef/OneDrive/Desktop/Seminar Image Enhancement/Implementation/data_2/CT00000{}.jpg\".format(str(i))\n",
    "        else:\n",
    "            path=\"C:/Users/cyberchef/OneDrive/Desktop/Seminar Image Enhancement/Implementation/data_2/CT0000{}.jpg\".format(str(i))\n",
    "        image=cv2.imread(path)\n",
    "        filters(image)\n",
    "    \n",
    "if __name__ == \"__main__\":\n",
    "    main()\n",
    "    \n",
    "    median_filter_values=[avg(PSNR_lst,0),avg(RMSE_lst,0),avg(SSIM_lst,0)]\n",
    "    mean_filter_values=[avg(PSNR_lst,1),avg(RMSE_lst,1),avg(SSIM_lst,1)]\n",
    "    gaussian_filter_values=[avg(PSNR_lst,2),avg(RMSE_lst,2),avg(SSIM_lst,2)]\n",
    "    bilateral_filter_values=[avg(PSNR_lst,3),avg(RMSE_lst,3),avg(SSIM_lst,3)]\n",
    "    print(\"**\")\n",
    "\n",
    "    print(\"median_filter PSNR Average : \",median_filter_values[0])\n",
    "    print(\"median_filter RMSE Average : \",median_filter_values[1])\n",
    "    print(\"median_filter SSIM Average : \",median_filter_values[2])\n",
    "\n",
    "    print(\"**\")\n",
    "\n",
    "    print(\"mean_filter PSNR Average : \",mean_filter_values[0])\n",
    "    print(\"mean_filter RMSE Average : \",mean_filter_values[1])\n",
    "    print(\"mean_filter SSIM Average : \",mean_filter_values[2])\n",
    "\n",
    "    print(\"**\") \n",
    "\n",
    "    print(\"gaussian_filter PSNR Average : \",gaussian_filter_values[0])\n",
    "    print(\"gaussian_filter RMSE Average : \",gaussian_filter_values[1])\n",
    "    print(\"gaussian_filter SSIM Average : \",gaussian_filter_values[2])\n",
    "\n",
    "    print(\"**\")\n",
    "\n",
    "    print(\"bilateral_filter PSNR Average : \",bilateral_filter_values[0])\n",
    "    print(\"bilateral_filter RMSE Average : \",bilateral_filter_values[1])\n",
    "    print(\"bilateral_filter SSIM Average : \",bilateral_filter_values[2])\n",
    "\n",
    "    print(\"**\")\n",
    "\n",
    "    print('DONE') "
   ]
  },
  {
   "cell_type": "code",
   "execution_count": 4,
   "metadata": {},
   "outputs": [
    {
     "data": {
      "image/png": "[encoded data removed]",
      "text/plain": [
       "<Figure size 720x360 with 1 Axes>"
      ]
     },
     "metadata": {
      "needs_background": "light"
     },
     "output_type": "display_data"
    }
   ],
   "source": [
    "data = {'Median Filter':61.54734826957182, 'Mean Filter':54.62997919181345, 'Gaussian Filter':56.96172867327158,'Bilateral Filter':48.71902910254634}\n",
    "courses = list(data.keys())\n",
    "values = list(data.values())\n",
    "  \n",
    "fig = plt.figure(figsize = (10, 5))\n",
    " \n",
    "# creating the bar plot\n",
    "plt.bar(courses, values, edgecolor ='black')\n",
    " \n",
    "plt.xlabel(\"PSNR Values of Filtering Techniques\")\n",
    "plt.ylabel(\"PSNR Value\")\n",
    "plt.title(\"PSNR for different filtering techniques\")\n",
    "plt.show()"
   ]
  },
  {
   "cell_type": "code",
   "execution_count": 7,
   "metadata": {},
   "outputs": [
    {
     "ename": "TypeError",
     "evalue": "object of type 'float' has no len()",
     "output_type": "error",
     "traceback": [
      "\u001b[1;31m---------------------------------------------------------------------------\u001b[0m",
      "\u001b[1;31mTypeError\u001b[0m                                 Traceback (most recent call last)",
      "\u001b[1;32m<ipython-input-7-40bec9ba9f50>\u001b[0m in \u001b[0;36m<module>\u001b[1;34m\u001b[0m\n\u001b[0;32m     19\u001b[0m \u001b[1;33m\u001b[0m\u001b[0m\n\u001b[0;32m     20\u001b[0m \u001b[1;31m# Set position of bar on X axis\u001b[0m\u001b[1;33m\u001b[0m\u001b[1;33m\u001b[0m\u001b[1;33m\u001b[0m\u001b[0m\n\u001b[1;32m---> 21\u001b[1;33m \u001b[0mbr1\u001b[0m \u001b[1;33m=\u001b[0m \u001b[0mnp\u001b[0m\u001b[1;33m.\u001b[0m\u001b[0marange\u001b[0m\u001b[1;33m(\u001b[0m\u001b[0mlen\u001b[0m\u001b[1;33m(\u001b[0m\u001b[0mMDF\u001b[0m\u001b[1;33m)\u001b[0m\u001b[1;33m)\u001b[0m\u001b[1;33m\u001b[0m\u001b[1;33m\u001b[0m\u001b[0m\n\u001b[0m\u001b[0;32m     22\u001b[0m \u001b[0mbr2\u001b[0m \u001b[1;33m=\u001b[0m \u001b[1;33m[\u001b[0m\u001b[0mx\u001b[0m \u001b[1;33m+\u001b[0m \u001b[0mbarWidth\u001b[0m \u001b[1;32mfor\u001b[0m \u001b[0mx\u001b[0m \u001b[1;32min\u001b[0m \u001b[0mbr1\u001b[0m\u001b[1;33m]\u001b[0m\u001b[1;33m\u001b[0m\u001b[1;33m\u001b[0m\u001b[0m\n\u001b[0;32m     23\u001b[0m \u001b[0mbr3\u001b[0m \u001b[1;33m=\u001b[0m \u001b[1;33m[\u001b[0m\u001b[0mx\u001b[0m \u001b[1;33m+\u001b[0m \u001b[0mbarWidth\u001b[0m \u001b[1;32mfor\u001b[0m \u001b[0mx\u001b[0m \u001b[1;32min\u001b[0m \u001b[0mbr2\u001b[0m\u001b[1;33m]\u001b[0m\u001b[1;33m\u001b[0m\u001b[1;33m\u001b[0m\u001b[0m\n",
      "\u001b[1;31mTypeError\u001b[0m: object of type 'float' has no len()"
     ]
    },
    {
     "data": {
      "image/png": "[encoded data removed]",
      "text/plain": [
       "<Figure size 720x576 with 1 Axes>"
      ]
     },
     "metadata": {
      "needs_background": "light"
     },
     "output_type": "display_data"
    }
   ],
   "source": [
    "# def topercent(a):\n",
    "#     l=a\n",
    "#     l[1]=(1-a[1])*100\n",
    "#     l[2]=a[2]*100\n",
    "#     return l\n",
    "\n",
    "barWidth = 0.2\n",
    "fig = plt.subplots(figsize =(10, 8))\n",
    "\n",
    "# print(median_filter_values)\n",
    "\n",
    "# set height of bar\n",
    "MDF = median_filter_values[0]\n",
    "MF = mean_filter_values[0]\n",
    "GF = gaussian_filter_values[0]\n",
    "BF = bilateral_filter_values[0]\n",
    "# print(MDF,MF,GF,BF)\n",
    "\n",
    "\n",
    "# Set position of bar on X axis\n",
    "br1 = np.arange(len(MDF))\n",
    "br2 = [x + barWidth for x in br1]\n",
    "br3 = [x + barWidth for x in br2]\n",
    "br4 = [x + barWidth for x in br3]\n",
    "\n",
    "\n",
    "# Make the plot\n",
    "plt.bar(br1, MDF, color ='r', width = barWidth,\n",
    "        edgecolor ='RED', label ='MEDIAN FILTER')\n",
    "plt.bar(br2, MF, color ='g', width = barWidth,\n",
    "        edgecolor ='GREEN', label ='MEAN FILTER')\n",
    "plt.bar(br3, GF, color ='b', width = barWidth,\n",
    "        edgecolor ='BLUE', label ='GAUSSIAN FILTER')\n",
    "plt.bar(br4, GF, color ='pink', width = barWidth,\n",
    "        edgecolor ='PINK', label ='BILATERAL FILTER')\n",
    "\n",
    "# Adding Xticks\n",
    "plt.xlabel('METHODS', fontweight ='bold', fontsize = 15)\n",
    "plt.ylabel('% ACCURACY', fontweight ='bold', fontsize = 15)\n",
    "plt.xticks([r + barWidth for r in range(len(MDF))],\n",
    "        ['PSNR'])\n",
    "\n",
    "plt.legend()\n",
    "plt.show()\n",
    "  "
   ]
  },
  {
   "cell_type": "code",
   "execution_count": null,
   "metadata": {},
   "outputs": [],
   "source": []
  }
 ],
 "metadata": {
  "kernelspec": {
   "display_name": "Python 3",
   "language": "python",
   "name": "python3"
  },
  "language_info": {
   "codemirror_mode": {
    "name": "ipython",
    "version": 3
   },
   "file_extension": ".py",
   "mimetype": "text/x-python",
   "name": "python",
   "nbconvert_exporter": "python",
   "pygments_lexer": "ipython3",
   "version": "3.8.5"
  }
 },
 "nbformat": 4,
 "nbformat_minor": 4
}
